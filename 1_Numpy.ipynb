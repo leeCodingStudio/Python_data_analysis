{
  "nbformat": 4,
  "nbformat_minor": 0,
  "metadata": {
    "colab": {
      "provenance": [],
      "authorship_tag": "ABX9TyOuxPtZJXTSNMndk+lf3RH0",
      "include_colab_link": true
    },
    "kernelspec": {
      "name": "python3",
      "display_name": "Python 3"
    },
    "language_info": {
      "name": "python"
    }
  },
  "cells": [
    {
      "cell_type": "markdown",
      "metadata": {
        "id": "view-in-github",
        "colab_type": "text"
      },
      "source": [
        "<a href=\"https://colab.research.google.com/github/leeCodingStudio/Python_data_analysis/blob/master/1_Numpy.ipynb\" target=\"_parent\"><img src=\"https://colab.research.google.com/assets/colab-badge.svg\" alt=\"Open In Colab\"/></a>"
      ]
    },
    {
      "cell_type": "markdown",
      "source": [
        "# 1. 넘파이(Numpy)\n",
        "* 수학, 과학 계산용 패키지\n",
        "* 자료구조(ndarray)를 제공 -> 파이썬의 list보다 속도가 빠름. 작은 메모리를 사용"
      ],
      "metadata": {
        "id": "ibL7a9YMPKje"
      }
    },
    {
      "cell_type": "code",
      "source": [
        "!pip install numpy"
      ],
      "metadata": {
        "colab": {
          "base_uri": "https://localhost:8080/"
        },
        "id": "UGegtSMLR1mI",
        "outputId": "112f3246-9186-4da1-ccd9-88d49a9f356d"
      },
      "execution_count": null,
      "outputs": [
        {
          "output_type": "stream",
          "name": "stdout",
          "text": [
            "Looking in indexes: https://pypi.org/simple, https://us-python.pkg.dev/colab-wheels/public/simple/\n",
            "Requirement already satisfied: numpy in /usr/local/lib/python3.10/dist-packages (1.22.4)\n"
          ]
        }
      ]
    },
    {
      "cell_type": "code",
      "source": [
        "import numpy"
      ],
      "metadata": {
        "id": "eJGeqWhfSAye"
      },
      "execution_count": null,
      "outputs": []
    },
    {
      "cell_type": "code",
      "source": [
        "numpy"
      ],
      "metadata": {
        "colab": {
          "base_uri": "https://localhost:8080/"
        },
        "id": "7CQmifh4SNRp",
        "outputId": "db47a37d-bffe-4c69-b50a-5659dc49098b"
      },
      "execution_count": null,
      "outputs": [
        {
          "output_type": "execute_result",
          "data": {
            "text/plain": [
              "<module 'numpy' from '/usr/local/lib/python3.10/dist-packages/numpy/__init__.py'>"
            ]
          },
          "metadata": {},
          "execution_count": 3
        }
      ]
    },
    {
      "cell_type": "code",
      "source": [
        "import numpy as np"
      ],
      "metadata": {
        "id": "yROdtyVCSRiK"
      },
      "execution_count": null,
      "outputs": []
    },
    {
      "cell_type": "code",
      "source": [
        "np"
      ],
      "metadata": {
        "colab": {
          "base_uri": "https://localhost:8080/"
        },
        "id": "T-OBMsPASn0C",
        "outputId": "eee111cf-1b88-4281-f187-8a655ce4aa13"
      },
      "execution_count": null,
      "outputs": [
        {
          "output_type": "execute_result",
          "data": {
            "text/plain": [
              "<module 'numpy' from '/usr/local/lib/python3.10/dist-packages/numpy/__init__.py'>"
            ]
          },
          "metadata": {},
          "execution_count": 5
        }
      ]
    },
    {
      "cell_type": "markdown",
      "source": [
        "### 1-1. ndarray"
      ],
      "metadata": {
        "id": "9N4pBpvZSomY"
      }
    },
    {
      "cell_type": "code",
      "source": [
        "list1 = [1, 2, 3, 4]\n",
        "list2 = [[1, 2 ,3 ,4 ], [5, 6, 7, 8]]\n",
        "print(list1)\n",
        "print(list2)\n",
        "print(type(list1))\n",
        "print(type(list2))"
      ],
      "metadata": {
        "colab": {
          "base_uri": "https://localhost:8080/"
        },
        "id": "v4I2lESVSve3",
        "outputId": "7de363ee-266e-4139-e647-9f2a30b4746b"
      },
      "execution_count": null,
      "outputs": [
        {
          "output_type": "stream",
          "name": "stdout",
          "text": [
            "[1, 2, 3, 4]\n",
            "[[1, 2, 3, 4], [5, 6, 7, 8]]\n",
            "<class 'list'>\n",
            "<class 'list'>\n"
          ]
        }
      ]
    },
    {
      "cell_type": "code",
      "source": [
        "ndarr1 = np.array([1, 2 ,3 ,4])\n",
        "print(ndarr1)\n",
        "print(type(ndarr1)) # ndarray = n dimension array"
      ],
      "metadata": {
        "colab": {
          "base_uri": "https://localhost:8080/"
        },
        "id": "DQ3tadMuTFEX",
        "outputId": "5831cf29-f50a-4250-f5ca-f790e4d4ca39"
      },
      "execution_count": null,
      "outputs": [
        {
          "output_type": "stream",
          "name": "stdout",
          "text": [
            "[1 2 3 4]\n",
            "<class 'numpy.ndarray'>\n"
          ]
        }
      ]
    },
    {
      "cell_type": "code",
      "source": [
        "# 리스트를 ndarray로 변환하는 방법\n",
        "ndarr1 = np.array(list1)\n",
        "ndarr2 = np.array(list2)\n",
        "print(ndarr1)\n",
        "print(ndarr2)\n",
        "print(type(ndarr1))\n",
        "print(type(ndarr2))"
      ],
      "metadata": {
        "colab": {
          "base_uri": "https://localhost:8080/"
        },
        "id": "M49PBhFtTmsA",
        "outputId": "ba34c36f-ad39-4387-9dfd-e71da3c521cc"
      },
      "execution_count": null,
      "outputs": [
        {
          "output_type": "stream",
          "name": "stdout",
          "text": [
            "[1 2 3 4]\n",
            "[[1 2 3 4]\n",
            " [5 6 7 8]]\n",
            "<class 'numpy.ndarray'>\n",
            "<class 'numpy.ndarray'>\n"
          ]
        }
      ]
    },
    {
      "cell_type": "markdown",
      "source": [
        "### 1-2. ndarray의 data type\n",
        "* ndarray는 list와 다르게 1개의 단일 데이터 타입만 허용"
      ],
      "metadata": {
        "id": "FlZu4QcPUdHW"
      }
    },
    {
      "cell_type": "code",
      "source": [
        "list1 = [1, 3.14, 'Python', '😎', True]"
      ],
      "metadata": {
        "id": "MBQQaBNQVmSk"
      },
      "execution_count": null,
      "outputs": []
    },
    {
      "cell_type": "code",
      "source": [
        "list1"
      ],
      "metadata": {
        "colab": {
          "base_uri": "https://localhost:8080/"
        },
        "id": "eeBJuVrRVxYs",
        "outputId": "7b8f3dc9-10d7-4786-f760-5110c1e9782b"
      },
      "execution_count": null,
      "outputs": [
        {
          "output_type": "execute_result",
          "data": {
            "text/plain": [
              "[1, 3.14, 'Python', '😎', True]"
            ]
          },
          "metadata": {},
          "execution_count": 11
        }
      ]
    },
    {
      "cell_type": "code",
      "source": [
        "list1[3]"
      ],
      "metadata": {
        "colab": {
          "base_uri": "https://localhost:8080/",
          "height": 35
        },
        "id": "sJTsgP0gVyU6",
        "outputId": "8a7a9ec9-1aa1-4029-c340-6004e59e610b"
      },
      "execution_count": null,
      "outputs": [
        {
          "output_type": "execute_result",
          "data": {
            "text/plain": [
              "'😎'"
            ],
            "application/vnd.google.colaboratory.intrinsic+json": {
              "type": "string"
            }
          },
          "metadata": {},
          "execution_count": 12
        }
      ]
    },
    {
      "cell_type": "code",
      "source": [
        "ndarr1 = np.array([1, 2, 3, 4])"
      ],
      "metadata": {
        "id": "fFN_eu-NV4rj"
      },
      "execution_count": null,
      "outputs": []
    },
    {
      "cell_type": "code",
      "source": [
        "ndarr1"
      ],
      "metadata": {
        "colab": {
          "base_uri": "https://localhost:8080/"
        },
        "id": "-jqtceYkV-5r",
        "outputId": "dee85ed2-12fe-49fa-db67-23c76d19eb4f"
      },
      "execution_count": null,
      "outputs": [
        {
          "output_type": "execute_result",
          "data": {
            "text/plain": [
              "array([1, 2, 3, 4])"
            ]
          },
          "metadata": {},
          "execution_count": 14
        }
      ]
    },
    {
      "cell_type": "code",
      "source": [
        "ndarr2 = np.array([1, 2, 3.14, 4]) # 모든 요소가 float로 변경됨"
      ],
      "metadata": {
        "id": "AjvO8I4WV_3C"
      },
      "execution_count": null,
      "outputs": []
    },
    {
      "cell_type": "code",
      "source": [
        "ndarr2"
      ],
      "metadata": {
        "colab": {
          "base_uri": "https://localhost:8080/"
        },
        "id": "-OZue0O-WFdC",
        "outputId": "d464300c-e74d-46ce-85bf-96586a7508f2"
      },
      "execution_count": null,
      "outputs": [
        {
          "output_type": "execute_result",
          "data": {
            "text/plain": [
              "array([1.  , 2.  , 3.14, 4.  ])"
            ]
          },
          "metadata": {},
          "execution_count": 16
        }
      ]
    },
    {
      "cell_type": "code",
      "source": [
        "ndarr3 = np.array([1, 2, 3.14, True]) # 모든 요소가 float로 변경됨"
      ],
      "metadata": {
        "id": "3MGwyovrWGfk"
      },
      "execution_count": null,
      "outputs": []
    },
    {
      "cell_type": "code",
      "source": [
        "ndarr3"
      ],
      "metadata": {
        "colab": {
          "base_uri": "https://localhost:8080/"
        },
        "id": "UjJaSwP3Wamc",
        "outputId": "f083a259-a522-4420-8970-c890cda657bb"
      },
      "execution_count": null,
      "outputs": [
        {
          "output_type": "execute_result",
          "data": {
            "text/plain": [
              "array([1.  , 2.  , 3.14, 1.  ])"
            ]
          },
          "metadata": {},
          "execution_count": 18
        }
      ]
    },
    {
      "cell_type": "code",
      "source": [
        "ndarr4 = np.array(['1', 2, 3.14, True]) # 모든 요소가 str로 변경됨"
      ],
      "metadata": {
        "id": "kEJRCAseWbuj"
      },
      "execution_count": null,
      "outputs": []
    },
    {
      "cell_type": "code",
      "source": [
        "ndarr4"
      ],
      "metadata": {
        "colab": {
          "base_uri": "https://localhost:8080/"
        },
        "id": "dMXaR6yrWpnS",
        "outputId": "c1e96db2-e723-4950-f9bf-81418948be18"
      },
      "execution_count": null,
      "outputs": [
        {
          "output_type": "execute_result",
          "data": {
            "text/plain": [
              "array(['1', '2', '3.14', 'True'], dtype='<U32')"
            ]
          },
          "metadata": {},
          "execution_count": 20
        }
      ]
    },
    {
      "cell_type": "code",
      "source": [
        "type(ndarr4)"
      ],
      "metadata": {
        "colab": {
          "base_uri": "https://localhost:8080/"
        },
        "id": "tMAuVTSBWqvI",
        "outputId": "c886f4db-2fee-4e0c-86fc-a088a03488ca"
      },
      "execution_count": null,
      "outputs": [
        {
          "output_type": "execute_result",
          "data": {
            "text/plain": [
              "numpy.ndarray"
            ]
          },
          "metadata": {},
          "execution_count": 21
        }
      ]
    },
    {
      "cell_type": "code",
      "source": [
        "ndarr3 = np.array([1, 2, 3.14, True], dtype=int)"
      ],
      "metadata": {
        "id": "ctAMpFLPW9_v"
      },
      "execution_count": null,
      "outputs": []
    },
    {
      "cell_type": "code",
      "source": [
        "ndarr3"
      ],
      "metadata": {
        "colab": {
          "base_uri": "https://localhost:8080/"
        },
        "id": "SREh2PnubrLK",
        "outputId": "8e1e2c97-c835-4ad0-d08a-85cb5e7e40e4"
      },
      "execution_count": null,
      "outputs": [
        {
          "output_type": "execute_result",
          "data": {
            "text/plain": [
              "array([1, 2, 3, 1])"
            ]
          },
          "metadata": {},
          "execution_count": 24
        }
      ]
    },
    {
      "cell_type": "code",
      "source": [
        "ndarr4 = np.array(['1', 2, 3.14, True], dtype=int)"
      ],
      "metadata": {
        "id": "wMrY246YbtJV"
      },
      "execution_count": null,
      "outputs": []
    },
    {
      "cell_type": "code",
      "source": [
        "ndarr4"
      ],
      "metadata": {
        "colab": {
          "base_uri": "https://localhost:8080/"
        },
        "id": "fKtjnIIhb6zg",
        "outputId": "b4f87979-8e66-4c61-d4f7-b4eb5a37f371"
      },
      "execution_count": null,
      "outputs": [
        {
          "output_type": "execute_result",
          "data": {
            "text/plain": [
              "array([1, 2, 3, 1])"
            ]
          },
          "metadata": {},
          "execution_count": 26
        }
      ]
    },
    {
      "cell_type": "code",
      "source": [
        "ndarr4 = np.array(['1', '2', '3.14', 'True'], dtype=int) # 문자열로 되어있는 3.14는 int 변환 불가능"
      ],
      "metadata": {
        "colab": {
          "base_uri": "https://localhost:8080/",
          "height": 174
        },
        "id": "krt_P9g1b9Co",
        "outputId": "a6786e48-d224-4777-c147-a2f6f5366b8d"
      },
      "execution_count": null,
      "outputs": [
        {
          "output_type": "error",
          "ename": "ValueError",
          "evalue": "ignored",
          "traceback": [
            "\u001b[0;31m---------------------------------------------------------------------------\u001b[0m",
            "\u001b[0;31mValueError\u001b[0m                                Traceback (most recent call last)",
            "\u001b[0;32m<ipython-input-27-1dd367754309>\u001b[0m in \u001b[0;36m<cell line: 1>\u001b[0;34m()\u001b[0m\n\u001b[0;32m----> 1\u001b[0;31m \u001b[0mndarr4\u001b[0m \u001b[0;34m=\u001b[0m \u001b[0mnp\u001b[0m\u001b[0;34m.\u001b[0m\u001b[0marray\u001b[0m\u001b[0;34m(\u001b[0m\u001b[0;34m[\u001b[0m\u001b[0;34m'1'\u001b[0m\u001b[0;34m,\u001b[0m \u001b[0;34m'2'\u001b[0m\u001b[0;34m,\u001b[0m \u001b[0;34m'3.14'\u001b[0m\u001b[0;34m,\u001b[0m \u001b[0;34m'True'\u001b[0m\u001b[0;34m]\u001b[0m\u001b[0;34m,\u001b[0m \u001b[0mdtype\u001b[0m\u001b[0;34m=\u001b[0m\u001b[0mint\u001b[0m\u001b[0;34m)\u001b[0m\u001b[0;34m\u001b[0m\u001b[0;34m\u001b[0m\u001b[0m\n\u001b[0m",
            "\u001b[0;31mValueError\u001b[0m: invalid literal for int() with base 10: '3.14'"
          ]
        }
      ]
    },
    {
      "cell_type": "markdown",
      "source": [
        "### 1-3. ndarray 슬라이싱"
      ],
      "metadata": {
        "id": "7Dom7F53cLPl"
      }
    },
    {
      "cell_type": "code",
      "source": [
        "ndarr1 = np.array(['🍓', '🍉', '🍎', '🍊', '🍌'])\n",
        "ndarr1"
      ],
      "metadata": {
        "colab": {
          "base_uri": "https://localhost:8080/"
        },
        "id": "4hazDzd5chUw",
        "outputId": "d45cd781-d905-4019-9a59-f0e11896e6c9"
      },
      "execution_count": null,
      "outputs": [
        {
          "output_type": "execute_result",
          "data": {
            "text/plain": [
              "array(['🍓', '🍉', '🍎', '🍊', '🍌'], dtype='<U1')"
            ]
          },
          "metadata": {},
          "execution_count": 28
        }
      ]
    },
    {
      "cell_type": "code",
      "source": [
        "ndarr1.shape"
      ],
      "metadata": {
        "colab": {
          "base_uri": "https://localhost:8080/"
        },
        "id": "lGDgKc9mcwJT",
        "outputId": "1a497ad6-9a39-4a19-c83e-2932c17e92b6"
      },
      "execution_count": null,
      "outputs": [
        {
          "output_type": "execute_result",
          "data": {
            "text/plain": [
              "(5,)"
            ]
          },
          "metadata": {},
          "execution_count": 29
        }
      ]
    },
    {
      "cell_type": "code",
      "source": [
        "# 인덱싱\n",
        "print(ndarr1[0])\n",
        "print(ndarr1[4])\n",
        "print(ndarr1[-1])\n",
        "print(ndarr1[-2])"
      ],
      "metadata": {
        "colab": {
          "base_uri": "https://localhost:8080/"
        },
        "id": "mC1jDF-icxxA",
        "outputId": "5f6cca92-1647-464e-a4b6-a641189c938e"
      },
      "execution_count": null,
      "outputs": [
        {
          "output_type": "stream",
          "name": "stdout",
          "text": [
            "🍓\n",
            "🍌\n",
            "🍌\n",
            "🍊\n"
          ]
        }
      ]
    },
    {
      "cell_type": "code",
      "source": [
        "# 슬라이싱 '🍓', '🍉', '🍎', '🍊', '🍌'\n",
        "print(ndarr1[0:3])\n",
        "print(ndarr1[2:])\n",
        "print(ndarr1[:3])"
      ],
      "metadata": {
        "colab": {
          "base_uri": "https://localhost:8080/"
        },
        "id": "n_oiB-wqc9-L",
        "outputId": "2ddf893d-e8eb-4404-de64-cc1fb1d7ecdc"
      },
      "execution_count": null,
      "outputs": [
        {
          "output_type": "stream",
          "name": "stdout",
          "text": [
            "['🍓' '🍉' '🍎']\n",
            "['🍎' '🍊' '🍌']\n",
            "['🍓' '🍉' '🍎']\n"
          ]
        }
      ]
    },
    {
      "cell_type": "code",
      "source": [
        "ndarr2d = np.array([[1, 2, 3, 4],\n",
        "                    [5, 6, 7, 8],\n",
        "                    [9, 10, 11, 12]])\n",
        "\n",
        "ndarr2d.shape"
      ],
      "metadata": {
        "colab": {
          "base_uri": "https://localhost:8080/"
        },
        "id": "iLqS5NYwdeNF",
        "outputId": "f9ac6636-5837-468c-81d3-01b56fdb4b70"
      },
      "execution_count": null,
      "outputs": [
        {
          "output_type": "execute_result",
          "data": {
            "text/plain": [
              "(3, 4)"
            ]
          },
          "metadata": {},
          "execution_count": 39
        }
      ]
    },
    {
      "cell_type": "code",
      "source": [
        "print(ndarr2d[0, 2])\n",
        "print(ndarr2d[0][2])"
      ],
      "metadata": {
        "colab": {
          "base_uri": "https://localhost:8080/"
        },
        "id": "90P5gq2ud0V7",
        "outputId": "559afb63-f914-47e7-9672-9a362a516f5f"
      },
      "execution_count": null,
      "outputs": [
        {
          "output_type": "stream",
          "name": "stdout",
          "text": [
            "3\n",
            "3\n"
          ]
        }
      ]
    },
    {
      "cell_type": "code",
      "source": [
        "# 0행 가져오기\n",
        "print(ndarr2d[0])\n",
        "print(ndarr2d[0,])\n",
        "print(ndarr2d[0,:])"
      ],
      "metadata": {
        "colab": {
          "base_uri": "https://localhost:8080/"
        },
        "id": "MWBonHBsej2j",
        "outputId": "4bd9614a-79c2-4752-f7d2-b716422ab269"
      },
      "execution_count": null,
      "outputs": [
        {
          "output_type": "stream",
          "name": "stdout",
          "text": [
            "[1 2 3 4]\n",
            "[1 2 3 4]\n",
            "[1 2 3 4]\n"
          ]
        }
      ]
    },
    {
      "cell_type": "code",
      "source": [
        "# 0열 가져오기\n",
        "print(ndarr2d[:, 0])"
      ],
      "metadata": {
        "colab": {
          "base_uri": "https://localhost:8080/"
        },
        "id": "B4qI_oTier-s",
        "outputId": "a38c9ad8-c552-4f5e-f004-c20e71f3925c"
      },
      "execution_count": null,
      "outputs": [
        {
          "output_type": "stream",
          "name": "stdout",
          "text": [
            "[1 5 9]\n"
          ]
        }
      ]
    },
    {
      "cell_type": "markdown",
      "source": [
        "### 1-4. Fancy 인덱싱\n",
        "* 범위가 아닌 특정 index의 집합의 값들을 선택해서 추출하고 싶을 때 활용"
      ],
      "metadata": {
        "id": "P67R2OtvfHFJ"
      }
    },
    {
      "cell_type": "code",
      "source": [
        "ndarr1 = np.array([10, 15, 2, 8, 20, 90, 85, 44, 23, 32])"
      ],
      "metadata": {
        "id": "xleoCn7xfd4m"
      },
      "execution_count": null,
      "outputs": []
    },
    {
      "cell_type": "code",
      "source": [
        "idx = [2, 5, 9]"
      ],
      "metadata": {
        "id": "sUGaB7fqfvS0"
      },
      "execution_count": null,
      "outputs": []
    },
    {
      "cell_type": "code",
      "source": [
        "ndarr1[idx]"
      ],
      "metadata": {
        "colab": {
          "base_uri": "https://localhost:8080/"
        },
        "id": "z3Z_Lgbsf4ab",
        "outputId": "ba1a9fd6-f43d-4f13-cf56-fc0b774ac496"
      },
      "execution_count": null,
      "outputs": [
        {
          "output_type": "execute_result",
          "data": {
            "text/plain": [
              "array([ 2, 90, 32])"
            ]
          },
          "metadata": {},
          "execution_count": 47
        }
      ]
    },
    {
      "cell_type": "code",
      "source": [
        "ndarr2d = np.array([[1, 2, 3, 4],\n",
        "                    [5, 6, 7, 8],\n",
        "                    [9, 10, 11, 12]])"
      ],
      "metadata": {
        "id": "OeE1Vbuyf68t"
      },
      "execution_count": null,
      "outputs": []
    },
    {
      "cell_type": "code",
      "source": [
        "ndarr2d[[0, 1], :]"
      ],
      "metadata": {
        "colab": {
          "base_uri": "https://localhost:8080/"
        },
        "id": "YT5eeBhzgSa5",
        "outputId": "a4808b70-9814-4be0-84e9-22fded80fd2a"
      },
      "execution_count": null,
      "outputs": [
        {
          "output_type": "execute_result",
          "data": {
            "text/plain": [
              "array([[1, 2, 3, 4],\n",
              "       [5, 6, 7, 8]])"
            ]
          },
          "metadata": {},
          "execution_count": 51
        }
      ]
    },
    {
      "cell_type": "markdown",
      "source": [
        "### 1-5. Boolean 인덱싱\n",
        "* 조건에 대한 필터링을 통해 Boolean 값을 이용한 색인을 사용"
      ],
      "metadata": {
        "id": "b9Od5L0VgoZC"
      }
    },
    {
      "cell_type": "code",
      "source": [
        "ndarr1 = np.array(['🍓', '🍉', '🍎', '🍊', '🍌'])\n",
        "selValue = [True, False, True, True, False]"
      ],
      "metadata": {
        "id": "FaY1ur8mgx-0"
      },
      "execution_count": null,
      "outputs": []
    },
    {
      "cell_type": "code",
      "source": [
        "ndarr1[selValue]"
      ],
      "metadata": {
        "colab": {
          "base_uri": "https://localhost:8080/"
        },
        "id": "gr1KsDKLhF0g",
        "outputId": "8bb62a41-b672-470a-f6d5-d065e216d1ae"
      },
      "execution_count": null,
      "outputs": [
        {
          "output_type": "execute_result",
          "data": {
            "text/plain": [
              "array(['🍓', '🍎', '🍊'], dtype='<U1')"
            ]
          },
          "metadata": {},
          "execution_count": 54
        }
      ]
    },
    {
      "cell_type": "code",
      "source": [
        "selValue = [True, False, True]"
      ],
      "metadata": {
        "id": "ymUtQy3OhbAG"
      },
      "execution_count": null,
      "outputs": []
    },
    {
      "cell_type": "code",
      "source": [
        "ndarr1[selValue] # 행 갯수가 맞지 않으면 Error"
      ],
      "metadata": {
        "colab": {
          "base_uri": "https://localhost:8080/",
          "height": 174
        },
        "id": "oTgEMxaOhs7M",
        "outputId": "81fc3ac8-52c4-4c11-f03e-2baa35e3872d"
      },
      "execution_count": null,
      "outputs": [
        {
          "output_type": "error",
          "ename": "IndexError",
          "evalue": "ignored",
          "traceback": [
            "\u001b[0;31m---------------------------------------------------------------------------\u001b[0m",
            "\u001b[0;31mIndexError\u001b[0m                                Traceback (most recent call last)",
            "\u001b[0;32m<ipython-input-56-3365a515ea60>\u001b[0m in \u001b[0;36m<cell line: 1>\u001b[0;34m()\u001b[0m\n\u001b[0;32m----> 1\u001b[0;31m \u001b[0mndarr1\u001b[0m\u001b[0;34m[\u001b[0m\u001b[0mselValue\u001b[0m\u001b[0;34m]\u001b[0m\u001b[0;34m\u001b[0m\u001b[0;34m\u001b[0m\u001b[0m\n\u001b[0m",
            "\u001b[0;31mIndexError\u001b[0m: boolean index did not match indexed array along dimension 0; dimension is 5 but corresponding boolean dimension is 3"
          ]
        }
      ]
    },
    {
      "cell_type": "code",
      "source": [
        "ndarr2d = np.array([[1, 2, 3, 4],\n",
        "                    [5, 6, 7, 8],\n",
        "                    [9, 10, 11, 12]])"
      ],
      "metadata": {
        "id": "xGdsVSZ4htYV"
      },
      "execution_count": null,
      "outputs": []
    },
    {
      "cell_type": "code",
      "source": [
        "ndarr2d > 7"
      ],
      "metadata": {
        "colab": {
          "base_uri": "https://localhost:8080/"
        },
        "id": "tzKWtKuNh30x",
        "outputId": "68a53349-66fe-4ed7-c1e7-3b9ea9382f56"
      },
      "execution_count": null,
      "outputs": [
        {
          "output_type": "execute_result",
          "data": {
            "text/plain": [
              "array([[False, False, False, False],\n",
              "       [False, False, False,  True],\n",
              "       [ True,  True,  True,  True]])"
            ]
          },
          "metadata": {},
          "execution_count": 58
        }
      ]
    },
    {
      "cell_type": "code",
      "source": [
        "ndarr2d[ndarr2d > 7]"
      ],
      "metadata": {
        "colab": {
          "base_uri": "https://localhost:8080/"
        },
        "id": "yfb19n70h6pD",
        "outputId": "764f720e-ff13-43e6-ee36-98bc4f71ff95"
      },
      "execution_count": null,
      "outputs": [
        {
          "output_type": "execute_result",
          "data": {
            "text/plain": [
              "array([ 8,  9, 10, 11, 12])"
            ]
          },
          "metadata": {},
          "execution_count": 59
        }
      ]
    },
    {
      "cell_type": "markdown",
      "source": [
        "# 2. 행렬 연산"
      ],
      "metadata": {
        "id": "SU_nLyrpiK3z"
      }
    },
    {
      "cell_type": "markdown",
      "source": [
        "### 2-1. 연산자\n",
        "* 덧셈, 뺄셈, 곱셈, 나눗셈은 shape가 같아야 함\n",
        "* 같은 position끼리 연산\n",
        "* 내적은 맞닿는 shape가 같아야 함\n",
        "* 내적은 떨어져 있는 shape가 결과 행렬이 됨"
      ],
      "metadata": {
        "id": "PWLHQcz4ic4Q"
      }
    },
    {
      "cell_type": "code",
      "source": [
        "a = np.array([[1, 2, 3],\n",
        "              [2, 3, 4]])\n",
        "b = np.array([[3, 4, 5],\n",
        "              [1, 2, 3]])\n",
        "a.shape, b.shape"
      ],
      "metadata": {
        "colab": {
          "base_uri": "https://localhost:8080/"
        },
        "id": "PC56vv2VifS4",
        "outputId": "5dd7e573-bd7a-45ab-8c3d-6cd63fd375c7"
      },
      "execution_count": null,
      "outputs": [
        {
          "output_type": "execute_result",
          "data": {
            "text/plain": [
              "((2, 3), (2, 3))"
            ]
          },
          "metadata": {},
          "execution_count": 68
        }
      ]
    },
    {
      "cell_type": "code",
      "source": [
        "# 덧셈 연산\n",
        "a + b"
      ],
      "metadata": {
        "colab": {
          "base_uri": "https://localhost:8080/"
        },
        "id": "DA8gsi8bi7Kt",
        "outputId": "7ff639a1-16d0-46ca-9987-a33801a471c5"
      },
      "execution_count": null,
      "outputs": [
        {
          "output_type": "execute_result",
          "data": {
            "text/plain": [
              "array([[4, 6, 8],\n",
              "       [3, 5, 7]])"
            ]
          },
          "metadata": {},
          "execution_count": 69
        }
      ]
    },
    {
      "cell_type": "code",
      "source": [
        "# 뺄셈 연산\n",
        "a - b"
      ],
      "metadata": {
        "colab": {
          "base_uri": "https://localhost:8080/"
        },
        "id": "3TY49j7WjAdy",
        "outputId": "974bdf98-1a40-4d8f-fa8e-87939593d95f"
      },
      "execution_count": null,
      "outputs": [
        {
          "output_type": "execute_result",
          "data": {
            "text/plain": [
              "array([[-2, -2, -2],\n",
              "       [ 1,  1,  1]])"
            ]
          },
          "metadata": {},
          "execution_count": 70
        }
      ]
    },
    {
      "cell_type": "code",
      "source": [
        "# 곱셈 연산\n",
        "a * b"
      ],
      "metadata": {
        "colab": {
          "base_uri": "https://localhost:8080/"
        },
        "id": "TlskS5gBjoVv",
        "outputId": "51b4fe4b-ecfb-43e0-8923-cbc98a5ede9d"
      },
      "execution_count": null,
      "outputs": [
        {
          "output_type": "execute_result",
          "data": {
            "text/plain": [
              "array([[ 3,  8, 15],\n",
              "       [ 2,  6, 12]])"
            ]
          },
          "metadata": {},
          "execution_count": 71
        }
      ]
    },
    {
      "cell_type": "code",
      "source": [
        "# 나눗셈 연산\n",
        "a / b"
      ],
      "metadata": {
        "colab": {
          "base_uri": "https://localhost:8080/"
        },
        "id": "dPOPJF3MjsT5",
        "outputId": "9dffce12-ab9d-416e-b4a0-c958496aee04"
      },
      "execution_count": null,
      "outputs": [
        {
          "output_type": "execute_result",
          "data": {
            "text/plain": [
              "array([[0.33333333, 0.5       , 0.6       ],\n",
              "       [2.        , 1.5       , 1.33333333]])"
            ]
          },
          "metadata": {},
          "execution_count": 72
        }
      ]
    },
    {
      "cell_type": "code",
      "source": [
        "# dot product(행렬곱, 내적)\n",
        "a = np.array([[1, 2, 3],\n",
        "             [1, 2, 3],\n",
        "             [2, 3, 4]])\n",
        "b = np.array([[1, 2],\n",
        "             [3, 4],\n",
        "             [5, 6]])"
      ],
      "metadata": {
        "id": "Nmt-nN3YjuHL"
      },
      "execution_count": null,
      "outputs": []
    },
    {
      "cell_type": "code",
      "source": [
        "a.shape, b.shape"
      ],
      "metadata": {
        "colab": {
          "base_uri": "https://localhost:8080/"
        },
        "id": "d7Fj3BX7keax",
        "outputId": "8842c00b-fbba-4132-c77e-a25cbd7203f4"
      },
      "execution_count": null,
      "outputs": [
        {
          "output_type": "execute_result",
          "data": {
            "text/plain": [
              "((3, 3), (3, 2))"
            ]
          },
          "metadata": {},
          "execution_count": 76
        }
      ]
    },
    {
      "cell_type": "code",
      "source": [
        "print((1*1 + 2*3 + 3*5), (1*2 + 2*4 + 3*6))\n",
        "print((1*1 + 2*3 + 3*5), (1*2 + 2*4 + 3*6))\n",
        "print((2*1 + 3*3 + 4*5), (2*2 + 3*4 + 4*6))"
      ],
      "metadata": {
        "colab": {
          "base_uri": "https://localhost:8080/"
        },
        "id": "AuAb5NWokqr3",
        "outputId": "97cc3b14-397d-4f2d-bb41-2536caadb4f3"
      },
      "execution_count": null,
      "outputs": [
        {
          "output_type": "stream",
          "name": "stdout",
          "text": [
            "22 28\n",
            "22 28\n",
            "31 40\n"
          ]
        }
      ]
    },
    {
      "cell_type": "code",
      "source": [
        "np.dot(a, b)"
      ],
      "metadata": {
        "colab": {
          "base_uri": "https://localhost:8080/"
        },
        "id": "I3Gy9BpolbzN",
        "outputId": "db78369a-656e-439e-fb80-fb487f7af5d6"
      },
      "execution_count": null,
      "outputs": [
        {
          "output_type": "execute_result",
          "data": {
            "text/plain": [
              "array([[22, 28],\n",
              "       [22, 28],\n",
              "       [31, 40]])"
            ]
          },
          "metadata": {},
          "execution_count": 79
        }
      ]
    },
    {
      "cell_type": "markdown",
      "source": [
        "### 2-2. arange\n",
        "* 순차적인 값을 생성할 때 사용"
      ],
      "metadata": {
        "id": "aBeXaI_ll1Zs"
      }
    },
    {
      "cell_type": "code",
      "source": [
        "arr1 = range(1, 11)"
      ],
      "metadata": {
        "id": "2FTZIoeFok6b"
      },
      "execution_count": null,
      "outputs": []
    },
    {
      "cell_type": "code",
      "source": [
        "for i in arr1:\n",
        "    print(i, end=' ')"
      ],
      "metadata": {
        "colab": {
          "base_uri": "https://localhost:8080/"
        },
        "id": "pwkzXULPonir",
        "outputId": "7c127ca2-3c93-442d-e982-4822b75f7436"
      },
      "execution_count": null,
      "outputs": [
        {
          "output_type": "stream",
          "name": "stdout",
          "text": [
            "1 2 3 4 5 6 7 8 9 10 "
          ]
        }
      ]
    },
    {
      "cell_type": "code",
      "source": [
        "arr2 = np.arange(1, 11)"
      ],
      "metadata": {
        "id": "U7xqFYx_ownx"
      },
      "execution_count": null,
      "outputs": []
    },
    {
      "cell_type": "code",
      "source": [
        "arr2"
      ],
      "metadata": {
        "colab": {
          "base_uri": "https://localhost:8080/"
        },
        "id": "8aoQ2xWeo3R4",
        "outputId": "77c54bee-bd33-4ba5-98b7-b79c98c74fc9"
      },
      "execution_count": null,
      "outputs": [
        {
          "output_type": "execute_result",
          "data": {
            "text/plain": [
              "array([ 1,  2,  3,  4,  5,  6,  7,  8,  9, 10])"
            ]
          },
          "metadata": {},
          "execution_count": 85
        }
      ]
    },
    {
      "cell_type": "code",
      "source": [
        "for i in arr2:\n",
        "    print(i, end=' ')"
      ],
      "metadata": {
        "colab": {
          "base_uri": "https://localhost:8080/"
        },
        "id": "8AF93v4No4CB",
        "outputId": "c1e3dce6-d2be-4814-db4e-8e975987dede"
      },
      "execution_count": null,
      "outputs": [
        {
          "output_type": "stream",
          "name": "stdout",
          "text": [
            "1 2 3 4 5 6 7 8 9 10 "
          ]
        }
      ]
    },
    {
      "cell_type": "markdown",
      "source": [
        "### 2-3. sort"
      ],
      "metadata": {
        "id": "5rjIITJAo92L"
      }
    },
    {
      "cell_type": "code",
      "source": [
        "ndarr1 = np.array([1, 10, 5, 7, 2, 4, 3, 6, 8, 9])\n",
        "ndarr1"
      ],
      "metadata": {
        "colab": {
          "base_uri": "https://localhost:8080/"
        },
        "id": "bYgBYGlCpLyf",
        "outputId": "3253eb69-4ef5-47dc-a9ea-f6fd3b1b1069"
      },
      "execution_count": null,
      "outputs": [
        {
          "output_type": "execute_result",
          "data": {
            "text/plain": [
              "array([ 1, 10,  5,  7,  2,  4,  3,  6,  8,  9])"
            ]
          },
          "metadata": {},
          "execution_count": 87
        }
      ]
    },
    {
      "cell_type": "code",
      "source": [
        "np.sort(ndarr1) # 오름차순 정렬"
      ],
      "metadata": {
        "colab": {
          "base_uri": "https://localhost:8080/"
        },
        "id": "VEkzIfgCpmxT",
        "outputId": "640f5c03-8808-4da2-be7f-349ebe7730a3"
      },
      "execution_count": null,
      "outputs": [
        {
          "output_type": "execute_result",
          "data": {
            "text/plain": [
              "array([ 1,  2,  3,  4,  5,  6,  7,  8,  9, 10])"
            ]
          },
          "metadata": {},
          "execution_count": 89
        }
      ]
    },
    {
      "cell_type": "code",
      "source": [
        "ndarr1"
      ],
      "metadata": {
        "colab": {
          "base_uri": "https://localhost:8080/"
        },
        "id": "PmXxHxcfpqOB",
        "outputId": "167924cb-4115-4bd5-e1bc-ba11ebf11da7"
      },
      "execution_count": null,
      "outputs": [
        {
          "output_type": "execute_result",
          "data": {
            "text/plain": [
              "array([ 1, 10,  5,  7,  2,  4,  3,  6,  8,  9])"
            ]
          },
          "metadata": {},
          "execution_count": 90
        }
      ]
    },
    {
      "cell_type": "code",
      "source": [
        "np.sort(ndarr1, reverse=True) # reverse 속성이 없음"
      ],
      "metadata": {
        "colab": {
          "base_uri": "https://localhost:8080/",
          "height": 211
        },
        "id": "PIO_HdNmpzEh",
        "outputId": "e2dcb0bd-3df6-4106-d582-a058f8f7473e"
      },
      "execution_count": null,
      "outputs": [
        {
          "output_type": "error",
          "ename": "TypeError",
          "evalue": "ignored",
          "traceback": [
            "\u001b[0;31m---------------------------------------------------------------------------\u001b[0m",
            "\u001b[0;31mTypeError\u001b[0m                                 Traceback (most recent call last)",
            "\u001b[0;32m<ipython-input-91-a9e82b01c079>\u001b[0m in \u001b[0;36m<cell line: 1>\u001b[0;34m()\u001b[0m\n\u001b[0;32m----> 1\u001b[0;31m \u001b[0mnp\u001b[0m\u001b[0;34m.\u001b[0m\u001b[0msort\u001b[0m\u001b[0;34m(\u001b[0m\u001b[0mndarr1\u001b[0m\u001b[0;34m,\u001b[0m \u001b[0mreverse\u001b[0m\u001b[0;34m=\u001b[0m\u001b[0;32mTrue\u001b[0m\u001b[0;34m)\u001b[0m \u001b[0;31m# reverse 속성이 없음\u001b[0m\u001b[0;34m\u001b[0m\u001b[0;34m\u001b[0m\u001b[0m\n\u001b[0m",
            "\u001b[0;32m/usr/local/lib/python3.10/dist-packages/numpy/core/overrides.py\u001b[0m in \u001b[0;36msort\u001b[0;34m(*args, **kwargs)\u001b[0m\n",
            "\u001b[0;31mTypeError\u001b[0m: _sort_dispatcher() got an unexpected keyword argument 'reverse'"
          ]
        }
      ]
    },
    {
      "cell_type": "code",
      "source": [
        "# 문자열 역순으로 출력하기\n",
        "str1 = 'Python'\n",
        "print(str1[:])      # 모든 문자를 슬라이싱\n",
        "print(str1[::])     # print(str1[::1]) -> 1: 정방향\n",
        "print(str1[::-1])   # -1: 역방향\n",
        "print(str1[4:1:-1]) # 4번 인덱스부터 1직전까지 역순으로 가져오기\n",
        "print(str1[4::-1])  # 4번 인덱스부터 0까지 역순으로 가져오기"
      ],
      "metadata": {
        "colab": {
          "base_uri": "https://localhost:8080/"
        },
        "id": "yBToLHrUp7wm",
        "outputId": "5ab2b35c-7651-4e2d-f8d1-4dbb81a2aa4a"
      },
      "execution_count": null,
      "outputs": [
        {
          "output_type": "stream",
          "name": "stdout",
          "text": [
            "Python\n",
            "Python\n",
            "nohtyP\n",
            "oht\n",
            "ohtyP\n"
          ]
        }
      ]
    },
    {
      "cell_type": "code",
      "source": [
        "np.sort(ndarr1)[::-1]"
      ],
      "metadata": {
        "colab": {
          "base_uri": "https://localhost:8080/"
        },
        "id": "hUO1SoWDqDWP",
        "outputId": "a8dc1ea5-b9af-4967-a847-ef799e354921"
      },
      "execution_count": null,
      "outputs": [
        {
          "output_type": "execute_result",
          "data": {
            "text/plain": [
              "array([10,  9,  8,  7,  6,  5,  4,  3,  2,  1])"
            ]
          },
          "metadata": {},
          "execution_count": 97
        }
      ]
    },
    {
      "cell_type": "code",
      "source": [
        "ndarr2d = np.array([[11, 10, 12, 9],\n",
        "                    [3, 1, 4, 2],\n",
        "                    [5, 6, 7, 8]])\n",
        "ndarr2d.shape"
      ],
      "metadata": {
        "colab": {
          "base_uri": "https://localhost:8080/"
        },
        "id": "lgz3rfn7rhrP",
        "outputId": "7c283a2b-c2f0-4581-9bdd-6f26fc36a570"
      },
      "execution_count": null,
      "outputs": [
        {
          "output_type": "execute_result",
          "data": {
            "text/plain": [
              "(3, 4)"
            ]
          },
          "metadata": {},
          "execution_count": 98
        }
      ]
    },
    {
      "cell_type": "code",
      "source": [
        "# 행 정렬\n",
        "np.sort(ndarr2d, axis=0)"
      ],
      "metadata": {
        "colab": {
          "base_uri": "https://localhost:8080/"
        },
        "id": "-A9EMy75rwt8",
        "outputId": "d596d9d0-3c2b-43ad-b172-585121ddfbc7"
      },
      "execution_count": null,
      "outputs": [
        {
          "output_type": "execute_result",
          "data": {
            "text/plain": [
              "array([[ 3,  1,  4,  2],\n",
              "       [ 5,  6,  7,  8],\n",
              "       [11, 10, 12,  9]])"
            ]
          },
          "metadata": {},
          "execution_count": 100
        }
      ]
    },
    {
      "cell_type": "code",
      "source": [
        "# 열 정렬\n",
        "np.sort(ndarr2d, axis=1)"
      ],
      "metadata": {
        "colab": {
          "base_uri": "https://localhost:8080/"
        },
        "id": "Eie9ytmQr34p",
        "outputId": "c772e55b-4968-4b2f-c75a-ee1224831536"
      },
      "execution_count": null,
      "outputs": [
        {
          "output_type": "execute_result",
          "data": {
            "text/plain": [
              "array([[ 9, 10, 11, 12],\n",
              "       [ 1,  2,  3,  4],\n",
              "       [ 5,  6,  7,  8]])"
            ]
          },
          "metadata": {},
          "execution_count": 101
        }
      ]
    },
    {
      "cell_type": "code",
      "source": [
        "# 열 정렬 내림차순\n",
        "np.sort(ndarr2d, axis=1)[:, ::-1]"
      ],
      "metadata": {
        "colab": {
          "base_uri": "https://localhost:8080/"
        },
        "id": "XQ_KRMTusYwp",
        "outputId": "2a4d0398-44a5-4606-bec1-3d2ee848c3fe"
      },
      "execution_count": null,
      "outputs": [
        {
          "output_type": "execute_result",
          "data": {
            "text/plain": [
              "array([[12, 11, 10,  9],\n",
              "       [ 4,  3,  2,  1],\n",
              "       [ 8,  7,  6,  5]])"
            ]
          },
          "metadata": {},
          "execution_count": 107
        }
      ]
    },
    {
      "cell_type": "code",
      "source": [
        "# 축의 마지막 방향\n",
        "np.sort(ndarr2d, axis=-1)"
      ],
      "metadata": {
        "colab": {
          "base_uri": "https://localhost:8080/"
        },
        "id": "aabse-usua2h",
        "outputId": "6a674044-3fc0-4bc3-fd38-c555bccc3576"
      },
      "execution_count": null,
      "outputs": [
        {
          "output_type": "execute_result",
          "data": {
            "text/plain": [
              "array([[ 9, 10, 11, 12],\n",
              "       [ 1,  2,  3,  4],\n",
              "       [ 5,  6,  7,  8]])"
            ]
          },
          "metadata": {},
          "execution_count": 108
        }
      ]
    },
    {
      "cell_type": "markdown",
      "source": [
        "### 2-4. 숫자의 단일 연산"
      ],
      "metadata": {
        "id": "W77bkYXNufvA"
      }
    },
    {
      "cell_type": "code",
      "source": [
        "a = np.array([[1, 2, 3],\n",
        "              [4, 5, 6]])"
      ],
      "metadata": {
        "id": "phthu2-7u0_C"
      },
      "execution_count": null,
      "outputs": []
    },
    {
      "cell_type": "code",
      "source": [
        "a + 3"
      ],
      "metadata": {
        "colab": {
          "base_uri": "https://localhost:8080/"
        },
        "id": "ARctfMfSvG83",
        "outputId": "16731f89-ec4c-4d86-fc2d-12bc441fd8c1"
      },
      "execution_count": null,
      "outputs": [
        {
          "output_type": "execute_result",
          "data": {
            "text/plain": [
              "array([[4, 5, 6],\n",
              "       [7, 8, 9]])"
            ]
          },
          "metadata": {},
          "execution_count": 110
        }
      ]
    },
    {
      "cell_type": "code",
      "source": [
        "a - 3"
      ],
      "metadata": {
        "colab": {
          "base_uri": "https://localhost:8080/"
        },
        "id": "qVEvmI8jvPlq",
        "outputId": "d19cad6e-22c9-40fb-efa3-115f2cb4f1d8"
      },
      "execution_count": null,
      "outputs": [
        {
          "output_type": "execute_result",
          "data": {
            "text/plain": [
              "array([[-2, -1,  0],\n",
              "       [ 1,  2,  3]])"
            ]
          },
          "metadata": {},
          "execution_count": 111
        }
      ]
    },
    {
      "cell_type": "code",
      "source": [
        "a * 3"
      ],
      "metadata": {
        "colab": {
          "base_uri": "https://localhost:8080/"
        },
        "id": "hKzFlXymvRFd",
        "outputId": "85c18611-aba0-44ba-f8b5-1591c689c67e"
      },
      "execution_count": null,
      "outputs": [
        {
          "output_type": "execute_result",
          "data": {
            "text/plain": [
              "array([[ 3,  6,  9],\n",
              "       [12, 15, 18]])"
            ]
          },
          "metadata": {},
          "execution_count": 112
        }
      ]
    },
    {
      "cell_type": "code",
      "source": [
        "a / 3"
      ],
      "metadata": {
        "colab": {
          "base_uri": "https://localhost:8080/"
        },
        "id": "IyXrwp8yvSVQ",
        "outputId": "3ae4dd20-540b-43e2-eb35-5ea92fcd6547"
      },
      "execution_count": null,
      "outputs": [
        {
          "output_type": "execute_result",
          "data": {
            "text/plain": [
              "array([[0.33333333, 0.66666667, 1.        ],\n",
              "       [1.33333333, 1.66666667, 2.        ]])"
            ]
          },
          "metadata": {},
          "execution_count": 113
        }
      ]
    },
    {
      "cell_type": "code",
      "source": [
        "b = np.array([[3, 3, 3],\n",
        "              [3, 3, 3]])"
      ],
      "metadata": {
        "id": "jD0KoTG6vTBo"
      },
      "execution_count": null,
      "outputs": []
    },
    {
      "cell_type": "code",
      "source": [
        "a + b"
      ],
      "metadata": {
        "colab": {
          "base_uri": "https://localhost:8080/"
        },
        "id": "COSXFK7UvcGJ",
        "outputId": "cc5ba5e6-1a92-42a5-eec7-11f69d5683ad"
      },
      "execution_count": null,
      "outputs": [
        {
          "output_type": "execute_result",
          "data": {
            "text/plain": [
              "array([[4, 5, 6],\n",
              "       [7, 8, 9]])"
            ]
          },
          "metadata": {},
          "execution_count": 115
        }
      ]
    }
  ]
}